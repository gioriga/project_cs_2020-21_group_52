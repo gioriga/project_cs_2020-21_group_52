{
 "cells": [
  {
   "cell_type": "code",
   "execution_count": null,
   "metadata": {},
   "outputs": [],
   "source": [
    "import pandas as pd"
   ]
  },
  {
   "cell_type": "code",
   "execution_count": null,
   "metadata": {},
   "outputs": [],
   "source": [
    "times_data = pd.read_csv('progetto/timesData.csv')\n",
    "times_data.head()"
   ]
  },
  {
   "cell_type": "code",
   "execution_count": null,
   "metadata": {},
   "outputs": [],
   "source": [
    "shanghai_data = pd.read_csv('progetto/shanghaiData.csv')\n",
    "shanghai_data.head()"
   ]
  },
  {
   "cell_type": "code",
   "execution_count": null,
   "metadata": {},
   "outputs": [],
   "source": [
    "school_country = pd.read_csv('progetto/school_and_country_table.csv')\n",
    "school_country.head()"
   ]
  },
  {
   "cell_type": "code",
   "execution_count": null,
   "metadata": {
    "scrolled": true
   },
   "outputs": [],
   "source": [
    "educational_attainment = pd.read_csv('progetto/educational_attainment_supplementary_data.csv')\n",
    "educational_attainment.head()"
   ]
  },
  {
   "cell_type": "code",
   "execution_count": null,
   "metadata": {},
   "outputs": [],
   "source": [
    "education_expenditure = pd.read_csv('progetto/education_expenditure_supplementary_data.csv')\n",
    "education_expenditure.head()"
   ]
  },
  {
   "cell_type": "code",
   "execution_count": null,
   "metadata": {},
   "outputs": [],
   "source": [
    "cwur = pd.read_csv('progetto/cwurData.csv')\n",
    "cwur= cwur.rename(columns={'institution': 'university_name'})\n",
    "cwur.head()"
   ]
  },
  {
   "cell_type": "markdown",
   "metadata": {},
   "source": [
    "## 1. For each university, extract from the times dataset the most recent and the least recent data, obtaining two separate dataframes"
   ]
  },
  {
   "cell_type": "code",
   "execution_count": null,
   "metadata": {},
   "outputs": [],
   "source": [
    "times_data"
   ]
  },
  {
   "cell_type": "code",
   "execution_count": null,
   "metadata": {},
   "outputs": [],
   "source": [
    "least_recent = times_data.iloc[times_data.groupby('university_name')['year'].idxmin()]"
   ]
  },
  {
   "cell_type": "code",
   "execution_count": null,
   "metadata": {},
   "outputs": [],
   "source": [
    "most_recent = times_data.iloc[times_data.groupby('university_name')['year'].idxmax()]\n",
    "most_recent"
   ]
  },
  {
   "cell_type": "markdown",
   "metadata": {},
   "source": [
    "## 2. For each university, compute the improvement in income between the least recent and the most recent data points"
   ]
  },
  {
   "cell_type": "code",
   "execution_count": null,
   "metadata": {},
   "outputs": [],
   "source": []
  },
  {
   "cell_type": "code",
   "execution_count": null,
   "metadata": {},
   "outputs": [],
   "source": [
    "least_most_recent_join= pd.merge(least_recent[[\"university_name\",\"year\",\"income\"]], most_recent[[\"university_name\",\"year\",\"income\"]], on='university_name')\n",
    "least_most_recent_join"
   ]
  },
  {
   "cell_type": "code",
   "execution_count": null,
   "metadata": {},
   "outputs": [],
   "source": [
    "least_most_recent_join_v2=least_most_recent_join[(least_most_recent_join['year_x']!=least_most_recent_join['year_y']) & (least_most_recent_join['income_x'] !='-' ) & (least_most_recent_join['income_y'] !='-' )]\n",
    "\n",
    "\n",
    "least_most_recent_join_v2['improvement']= pd.to_numeric(least_most_recent_join_v2['income_y'])- pd.to_numeric(least_most_recent_join_v2['income_x'])\n",
    "least_most_recent_join_v2"
   ]
  },
  {
   "cell_type": "markdown",
   "metadata": {},
   "source": [
    "## 3. Find the university with the largest increase computed in the previous point"
   ]
  },
  {
   "cell_type": "code",
   "execution_count": null,
   "metadata": {},
   "outputs": [],
   "source": [
    "least_most_recent_join_v2.loc[least_most_recent_join_v2['improvement'].idxmax()]"
   ]
  },
  {
   "cell_type": "code",
   "execution_count": null,
   "metadata": {
    "scrolled": false
   },
   "outputs": [],
   "source": [
    "least_most_recent_join_v2.sort_values(by='improvement', ascending=False).head()"
   ]
  },
  {
   "cell_type": "markdown",
   "metadata": {},
   "source": [
    "Utilizzando due metodi diversi otteniamo lo stesso risultato: sia prendendo il max con idxmax sia ordinando in maniera decrescente, notiamo che l'università con l'improvement di income maggiore è **TU Dresden**, che presenta un miglioramento di **67.8**"
   ]
  },
  {
   "cell_type": "markdown",
   "metadata": {},
   "source": [
    "## 4. For each ranking, consider only the most recent data point. For each university, compute the maximum difference between the rankings (e.g. for Aarhus University the value is 122-73=49). Notice that some rankings are expressed as a range"
   ]
  },
  {
   "cell_type": "markdown",
   "metadata": {},
   "source": [
    "### da rivedere\n",
    "non funziona perchè ci sono rank espressi come range.. bisogna parlarne con i ragazzi e trovare una soluzione"
   ]
  },
  {
   "cell_type": "code",
   "execution_count": null,
   "metadata": {},
   "outputs": [],
   "source": [
    "cwur.head()"
   ]
  },
  {
   "cell_type": "code",
   "execution_count": null,
   "metadata": {},
   "outputs": [],
   "source": [
    "shanghai_data.head()"
   ]
  },
  {
   "cell_type": "code",
   "execution_count": null,
   "metadata": {},
   "outputs": [],
   "source": [
    "times_most_recent=times_data.loc[times_data.groupby([\"university_name\"])[\"year\"].idxmax()]\n",
    "cwur_most_recent=cwur.loc[cwur.groupby([\"university_name\"])[\"year\"].idxmax()]\n",
    "shanghai_most_recent=shanghai_data.loc[shanghai_data.groupby([\"university_name\"])[\"year\"].idxmax()]"
   ]
  },
  {
   "cell_type": "code",
   "execution_count": null,
   "metadata": {},
   "outputs": [],
   "source": [
    "times_most_recent_1= times_most_recent[['university_name','year','world_rank']]\n",
    "cwur_most_recent_1= cwur_most_recent[['university_name','year','world_rank']]\n",
    "shanghai_most_recent_1=shanghai_most_recent[['university_name','year','world_rank']]"
   ]
  },
  {
   "cell_type": "code",
   "execution_count": null,
   "metadata": {
    "scrolled": true
   },
   "outputs": [],
   "source": [
    "rank=pd.merge(times_most_recent_1, cwur_most_recent_1, on ='university_name', how='outer')\n",
    "total_rank= pd.merge(rank, shanghai_most_recent_1, on ='university_name', how='outer')\n",
    "total_rank"
   ]
  },
  {
   "cell_type": "code",
   "execution_count": null,
   "metadata": {},
   "outputs": [],
   "source": [
    "total_rank['max_rank']= total_rank[['world_rank', 'world_rank_x', 'world_rank_y']].max(axis=1)\n",
    "total_rank['min_rank']= total_rank[['world_rank', 'world_rank_x', 'world_rank_y']].min(axis=1)\n",
    "total_rank['maximum_difference']= (total_rank['max_rank'] - total_rank['max_rank'])"
   ]
  },
  {
   "cell_type": "code",
   "execution_count": null,
   "metadata": {},
   "outputs": [],
   "source": [
    "total_rank.sort_values(by='maximum_difference', ascending=False)"
   ]
  },
  {
   "cell_type": "markdown",
   "metadata": {},
   "source": [
    "## 5. Consider only the most recent data point of the times dataset. Compute the number of male and female students for each country."
   ]
  },
  {
   "cell_type": "code",
   "execution_count": null,
   "metadata": {},
   "outputs": [],
   "source": [
    "import re"
   ]
  },
  {
   "cell_type": "code",
   "execution_count": 84,
   "metadata": {},
   "outputs": [
    {
     "data": {
      "text/html": [
       "<div>\n",
       "<style scoped>\n",
       "    .dataframe tbody tr th:only-of-type {\n",
       "        vertical-align: middle;\n",
       "    }\n",
       "\n",
       "    .dataframe tbody tr th {\n",
       "        vertical-align: top;\n",
       "    }\n",
       "\n",
       "    .dataframe thead th {\n",
       "        text-align: right;\n",
       "    }\n",
       "</style>\n",
       "<table border=\"1\" class=\"dataframe\">\n",
       "  <thead>\n",
       "    <tr style=\"text-align: right;\">\n",
       "      <th></th>\n",
       "      <th>world_rank</th>\n",
       "      <th>university_name</th>\n",
       "      <th>country</th>\n",
       "      <th>teaching</th>\n",
       "      <th>international</th>\n",
       "      <th>research</th>\n",
       "      <th>citations</th>\n",
       "      <th>income</th>\n",
       "      <th>total_score</th>\n",
       "      <th>num_students</th>\n",
       "      <th>student_staff_ratio</th>\n",
       "      <th>international_students</th>\n",
       "      <th>female_male_ratio</th>\n",
       "      <th>year</th>\n",
       "    </tr>\n",
       "  </thead>\n",
       "  <tbody>\n",
       "    <tr>\n",
       "      <td>2405</td>\n",
       "      <td>601-800</td>\n",
       "      <td>AGH University of Science and Technology</td>\n",
       "      <td>Poland</td>\n",
       "      <td>14.2</td>\n",
       "      <td>17.9</td>\n",
       "      <td>3.7</td>\n",
       "      <td>35.7</td>\n",
       "      <td>-</td>\n",
       "      <td>-</td>\n",
       "      <td>35,569</td>\n",
       "      <td>17.0</td>\n",
       "      <td>1%</td>\n",
       "      <td>-</td>\n",
       "      <td>2016</td>\n",
       "    </tr>\n",
       "    <tr>\n",
       "      <td>2003</td>\n",
       "      <td>201-250</td>\n",
       "      <td>Aalborg University</td>\n",
       "      <td>Denmark</td>\n",
       "      <td>25.1</td>\n",
       "      <td>71.0</td>\n",
       "      <td>28.4</td>\n",
       "      <td>73.8</td>\n",
       "      <td>43.7</td>\n",
       "      <td>-</td>\n",
       "      <td>17,422</td>\n",
       "      <td>15.9</td>\n",
       "      <td>15%</td>\n",
       "      <td>48 : 52</td>\n",
       "      <td>2016</td>\n",
       "    </tr>\n",
       "    <tr>\n",
       "      <td>2056</td>\n",
       "      <td>251-300</td>\n",
       "      <td>Aalto University</td>\n",
       "      <td>Finland</td>\n",
       "      <td>31.1</td>\n",
       "      <td>65.4</td>\n",
       "      <td>32.8</td>\n",
       "      <td>62.1</td>\n",
       "      <td>61.6</td>\n",
       "      <td>-</td>\n",
       "      <td>16,099</td>\n",
       "      <td>24.2</td>\n",
       "      <td>17%</td>\n",
       "      <td>32 : 68</td>\n",
       "      <td>2016</td>\n",
       "    </tr>\n",
       "    <tr>\n",
       "      <td>1908</td>\n",
       "      <td>=106</td>\n",
       "      <td>Aarhus University</td>\n",
       "      <td>Denmark</td>\n",
       "      <td>36.9</td>\n",
       "      <td>76.8</td>\n",
       "      <td>50.7</td>\n",
       "      <td>79.8</td>\n",
       "      <td>68.3</td>\n",
       "      <td>57.7</td>\n",
       "      <td>23,895</td>\n",
       "      <td>13.6</td>\n",
       "      <td>14%</td>\n",
       "      <td>54 : 46</td>\n",
       "      <td>2016</td>\n",
       "    </tr>\n",
       "    <tr>\n",
       "      <td>2105</td>\n",
       "      <td>301-350</td>\n",
       "      <td>Aberystwyth University</td>\n",
       "      <td>United Kingdom</td>\n",
       "      <td>21.6</td>\n",
       "      <td>72.2</td>\n",
       "      <td>18.9</td>\n",
       "      <td>67.2</td>\n",
       "      <td>31.3</td>\n",
       "      <td>-</td>\n",
       "      <td>9,252</td>\n",
       "      <td>19.2</td>\n",
       "      <td>18%</td>\n",
       "      <td>48 : 52</td>\n",
       "      <td>2016</td>\n",
       "    </tr>\n",
       "  </tbody>\n",
       "</table>\n",
       "</div>"
      ],
      "text/plain": [
       "     world_rank                           university_name         country  \\\n",
       "2405    601-800  AGH University of Science and Technology          Poland   \n",
       "2003    201-250                        Aalborg University         Denmark   \n",
       "2056    251-300                          Aalto University         Finland   \n",
       "1908       =106                         Aarhus University         Denmark   \n",
       "2105    301-350                    Aberystwyth University  United Kingdom   \n",
       "\n",
       "      teaching international  research  citations income total_score  \\\n",
       "2405      14.2          17.9       3.7       35.7      -           -   \n",
       "2003      25.1          71.0      28.4       73.8   43.7           -   \n",
       "2056      31.1          65.4      32.8       62.1   61.6           -   \n",
       "1908      36.9          76.8      50.7       79.8   68.3        57.7   \n",
       "2105      21.6          72.2      18.9       67.2   31.3           -   \n",
       "\n",
       "     num_students  student_staff_ratio international_students  \\\n",
       "2405       35,569                 17.0                     1%   \n",
       "2003       17,422                 15.9                    15%   \n",
       "2056       16,099                 24.2                    17%   \n",
       "1908       23,895                 13.6                    14%   \n",
       "2105        9,252                 19.2                    18%   \n",
       "\n",
       "     female_male_ratio  year  \n",
       "2405                 -  2016  \n",
       "2003           48 : 52  2016  \n",
       "2056           32 : 68  2016  \n",
       "1908           54 : 46  2016  \n",
       "2105           48 : 52  2016  "
      ]
     },
     "execution_count": 84,
     "metadata": {},
     "output_type": "execute_result"
    }
   ],
   "source": [
    "most_recent.head()"
   ]
  },
  {
   "cell_type": "code",
   "execution_count": null,
   "metadata": {},
   "outputs": [],
   "source": [
    "# espressione regolare per i casi 'buoni'. \n",
    "# ho creato la funzione da applicare successivamente in cui metto a 0 il campo se c'è il trattino ma c'è qualcosa che non va\n",
    "male_female_re=re.compile('(?P<female>\\d*)(\\s:\\s)(?P<male>\\d*)')\n",
    "\n",
    "def female(elem):\n",
    "    occ = male_female_re.search(elem)\n",
    "    if occ.match== False :\n",
    "        female = 0\n",
    "    else:\n",
    "        female= int(occ.group('female'))\n",
    "    return female\n",
    "\n",
    "def male(elem):\n",
    "    occ = male_female_re.search(elem)\n",
    "    male= int(occ.group('male'))\n",
    "    return male"
   ]
  },
  {
   "cell_type": "code",
   "execution_count": null,
   "metadata": {},
   "outputs": [],
   "source": [
    "#applico la funzione in modo tale da creare una colonna per le femmine e una per i maschi \n",
    "# cosi poi da poter ottenere il numero di maschi e il numero di femmine per ogni nazione\n",
    "most_recent['male'] = most_recent['female_male_ratio'].apply(male)\n",
    "most_recent['female'] = most_recent['female_male_ratio'].apply(female)\n"
   ]
  }
 ],
 "metadata": {
  "kernelspec": {
   "display_name": "Python 3",
   "language": "python",
   "name": "python3"
  },
  "language_info": {
   "codemirror_mode": {
    "name": "ipython",
    "version": 3
   },
   "file_extension": ".py",
   "mimetype": "text/x-python",
   "name": "python",
   "nbconvert_exporter": "python",
   "pygments_lexer": "ipython3",
   "version": "3.7.4"
  }
 },
 "nbformat": 4,
 "nbformat_minor": 2
}
